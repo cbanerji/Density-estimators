{
 "cells": [
  {
   "cell_type": "code",
   "execution_count": 263,
   "metadata": {},
   "outputs": [
    {
     "name": "stdout",
     "output_type": "stream",
     "text": [
      "[[-0.95013675]\n",
      " [-5.35689434]\n",
      " [-4.04535775]\n",
      " [-4.43291741]\n",
      " [-5.51063726]\n",
      " [-2.08926009]\n",
      " [-2.71474787]\n",
      " [-4.65080711]\n",
      " [-5.26152405]\n",
      " [-6.71741315]]\n",
      "mean[-4.76134922 -2.84954477 -0.98456977]\n",
      "covariance[4.96493495 6.04058556 5.01793585]\n"
     ]
    },
    {
     "data": {
      "image/png": "[encoded data removed]",
      "text/plain": [
       "<Figure size 432x288 with 1 Axes>"
      ]
     },
     "metadata": {
      "needs_background": "light"
     },
     "output_type": "display_data"
    }
   ],
   "source": [
    "import numpy as np\n",
    "from scipy import random\n",
    "import matplotlib.transforms as transforms\n",
    "from scipy.stats import multivariate_normal\n",
    "\n",
    "# Generate synthetic data for density estimation\n",
    "def gen_data(k=3, dim=1, points_per_cluster=5000, lim=[-10, 10]):\n",
    "    '''\n",
    "    Generates data from a random mixture of Gaussians in a given range.\n",
    "    input:\n",
    "        - k: Number of Gaussian clusters\n",
    "        - dim: Dimension of generated points\n",
    "        - points_per_cluster: Number of points to be generated for each cluster\n",
    "        - lim: Range of mean values\n",
    "    output:\n",
    "        - X: Generated points (points_per_cluster*k, dim)\n",
    "    '''\n",
    "    x = []\n",
    "    cove = []\n",
    "    mean = random.rand(k, dim)*(lim[1]-lim[0]) + lim[0]\n",
    "    for i in range(k):\n",
    "        cov = random.rand(dim, dim+10)\n",
    "        cov = np.matmul(cov, cov.T)\n",
    "        _x = np.random.multivariate_normal(mean[i], cov, points_per_cluster)\n",
    "        x += list(_x)\n",
    "        cove.append(cov)\n",
    "    x = np.clip(np.array(x),-10,10)\n",
    "    return x, np.squeeze(mean), np.squeeze(cove)\n",
    "\n",
    "#-------------------------\n",
    "samp, mu, co  = gen_data()\n",
    "print(samp[:10])# print some data from the sample\n",
    "print('mean'+str(mu))\n",
    "print('covariance'+str(co))\n",
    "for t in range(3):\n",
    "    plt.plot(bins, norm.pdf(bins, mu[t], co[t]))\n",
    "plt.show() #Plot the sampled distributions"
   ]
  },
  {
   "cell_type": "code",
   "execution_count": 264,
   "metadata": {},
   "outputs": [
    {
     "name": "stdout",
     "output_type": "stream",
     "text": [
      "[-10.          -8.29563443  -6.59126885  -4.88690328  -3.18253771\n",
      "  -1.47817213   0.22619344   1.93055901   3.63492459   5.33929016]\n"
     ]
    }
   ],
   "source": [
    "#Set parameters\n",
    "M = 10 #no. of bins\n",
    "b_len = abs(np.max(samp)-np.min(samp))/M # bin length\n",
    "bins = np.arange(np.min(samp),np.max(samp), b_len) #bin levels\n",
    "print(bins)"
   ]
  },
  {
   "cell_type": "code",
   "execution_count": 265,
   "metadata": {},
   "outputs": [
    {
     "name": "stdout",
     "output_type": "stream",
     "text": [
      "[[ 369.]\n",
      " [1039.]\n",
      " [2276.]\n",
      " [3172.]\n",
      " [3428.]\n",
      " [2647.]\n",
      " [1458.]\n",
      " [ 476.]\n",
      " [ 121.]\n",
      " [  14.]]\n"
     ]
    }
   ],
   "source": [
    "# Calculate binning counts\n",
    "ar = np.zeros((10,1))\n",
    "for j in samp:\n",
    "    getind = (np.where(bins<=j)[0]) \n",
    "    #print(j)\n",
    "    #print(getind)\n",
    "    ind = getind[-1]\n",
    "    #print(ind)\n",
    "    ar[ind] += 1\n",
    "    #print(ar)\n",
    "print(ar)"
   ]
  },
  {
   "cell_type": "code",
   "execution_count": 266,
   "metadata": {},
   "outputs": [
    {
     "name": "stdout",
     "output_type": "stream",
     "text": [
      "(array([ 369, 1039, 2276, 3172, 3428, 2647, 1458,  476,  121]), array([-10.        ,  -8.29563443,  -6.59126885,  -4.88690328,\n",
      "        -3.18253771,  -1.47817213,   0.22619344,   1.93055901,\n",
      "         3.63492459,   5.33929016]))\n"
     ]
    },
    {
     "data": {
      "image/png": "[encoded data removed]",
      "text/plain": [
       "<Figure size 432x288 with 1 Axes>"
      ]
     },
     "metadata": {
      "needs_background": "light"
     },
     "output_type": "display_data"
    }
   ],
   "source": [
    "import matplotlib.pyplot as plt\n",
    "from scipy.stats import norm\n",
    "import statistics\n",
    "#print(np.histogram(samp, bins=bins, range=None, normed=None, weights=None, density=None))\n",
    "# Creating histogram\n",
    "plt.bar(bins.tolist(),np.squeeze(ar.tolist()), width = 1)\n",
    "plt.show()"
   ]
  },
  {
   "cell_type": "code",
   "execution_count": null,
   "metadata": {},
   "outputs": [],
   "source": [
    "\n"
   ]
  }
 ],
 "metadata": {
  "kernelspec": {
   "display_name": "Python 3",
   "language": "python",
   "name": "python3"
  },
  "language_info": {
   "codemirror_mode": {
    "name": "ipython",
    "version": 3
   },
   "file_extension": ".py",
   "mimetype": "text/x-python",
   "name": "python",
   "nbconvert_exporter": "python",
   "pygments_lexer": "ipython3",
   "version": "3.6.10"
  }
 },
 "nbformat": 4,
 "nbformat_minor": 4
}
